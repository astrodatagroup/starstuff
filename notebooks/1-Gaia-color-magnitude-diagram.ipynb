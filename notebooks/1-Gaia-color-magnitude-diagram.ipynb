{
 "cells": [
  {
   "cell_type": "code",
   "execution_count": null,
   "metadata": {},
   "outputs": [],
   "source": [
    "import astropy.coordinates as coord\n",
    "import astropy.table as at\n",
    "import astropy.units as u\n",
    "import matplotlib as mpl\n",
    "import matplotlib.pyplot as plt\n",
    "%matplotlib inline\n",
    "import numpy as np\n",
    "\n",
    "from astroquery.gaia import Gaia"
   ]
  },
  {
   "cell_type": "markdown",
   "metadata": {},
   "source": [
    "Get a random sampling of 100000 stars within 1 kpc"
   ]
  },
  {
   "cell_type": "code",
   "execution_count": null,
   "metadata": {},
   "outputs": [],
   "source": [
    "query = f\"\"\"\n",
    "SELECT TOP 100000 \n",
    "    gaia.source_id, gaia.phot_g_mean_mag, gaia.bp_rp, gaia.parallax \n",
    "FROM \n",
    "    gaiadr2.gaia_source as gaia\n",
    "INNER JOIN\n",
    "    gaiadr2.ruwe as ruwe ON gaia.source_id = ruwe.source_id\n",
    "WHERE \n",
    "    gaia.parallax > 1 AND\n",
    "    gaia.parallax_over_error > 5 AND\n",
    "    gaia.phot_g_mean_mag < 20.7 AND\n",
    "    gaia.bp_rp BETWEEN -1 AND 5 AND\n",
    "    ruwe.ruwe < 1.4\n",
    "order by gaia.random_index\n",
    "\"\"\"\n",
    "\n",
    "job = Gaia.launch_job_async(query)\n",
    "random_tbl = at.QTable(job.get_results())"
   ]
  },
  {
   "cell_type": "code",
   "execution_count": null,
   "metadata": {},
   "outputs": [],
   "source": [
    "cmd_bins = (np.arange(-1, 5+1e-3, 0.04),\n",
    "            np.arange(0, 20.7+1e-3, 0.08))\n",
    "\n",
    "fig, ax = plt.subplots(figsize=(6, 6))\n",
    "ax.hist2d(random_tbl['bp_rp'].value,\n",
    "          random_tbl['phot_g_mean_mag'].value,\n",
    "          bins=cmd_bins, \n",
    "          norm=mpl.colors.LogNorm())\n",
    "\n",
    "ax.set_xlim(-1, 5)\n",
    "ax.set_ylim(20.7, 0)\n",
    "\n",
    "ax.set(xlabel=r'$G_{\\rm BP}-G_{\\rm RP}$ [mag]',\n",
    "       ylabel=r'$G$ [mag]')\n",
    "\n",
    "fig.tight_layout()"
   ]
  },
  {
   "cell_type": "code",
   "execution_count": null,
   "metadata": {},
   "outputs": [],
   "source": [
    "distmod = coord.Distance(parallax=random_tbl['parallax']).distmod\n",
    "M_G = random_tbl['phot_g_mean_mag'] - distmod"
   ]
  },
  {
   "cell_type": "code",
   "execution_count": null,
   "metadata": {},
   "outputs": [],
   "source": [
    "abs_cmd_bins = (np.arange(-1, 5+1e-3, 0.04),\n",
    "                np.arange(-3, 17+1e-3, 0.08))\n",
    "\n",
    "fig, ax = plt.subplots(figsize=(6, 6))\n",
    "ax.hist2d(random_tbl['bp_rp'].value,\n",
    "          M_G.value,\n",
    "          bins=abs_cmd_bins, \n",
    "          norm=mpl.colors.LogNorm())\n",
    "\n",
    "ax.set_xlim(-1, 5)\n",
    "ax.set_ylim(17, -3)\n",
    "\n",
    "ax.set(xlabel=r'$G_{\\rm BP}-G_{\\rm RP}$ [mag]',\n",
    "       ylabel=r'$M_G$ [mag]')\n",
    "\n",
    "fig.tight_layout()"
   ]
  },
  {
   "cell_type": "code",
   "execution_count": null,
   "metadata": {},
   "outputs": [],
   "source": [
    "abs_cmd_bins = (np.arange(-1, 5+1e-3, 0.04),\n",
    "                np.arange(-3, 17+1e-3, 0.08))\n",
    "\n",
    "fig, ax = plt.subplots(figsize=(6, 6))\n",
    "ax.hist2d(random_tbl['bp_rp'].value,\n",
    "          M_G.value,\n",
    "          bins=abs_cmd_bins, \n",
    "          norm=mpl.colors.LogNorm())\n",
    "\n",
    "ax.set_xlim(-1, 5)\n",
    "ax.set_ylim(17, -3)\n",
    "\n",
    "ax.set(xlabel=r'$G_{\\rm BP}-G_{\\rm RP}$ [mag]',\n",
    "       ylabel=r'$M_G$ [mag]')\n",
    "\n",
    "fig.tight_layout()"
   ]
  },
  {
   "cell_type": "code",
   "execution_count": null,
   "metadata": {},
   "outputs": [],
   "source": []
  },
  {
   "cell_type": "code",
   "execution_count": null,
   "metadata": {},
   "outputs": [],
   "source": []
  },
  {
   "cell_type": "code",
   "execution_count": null,
   "metadata": {},
   "outputs": [],
   "source": [
    "parallax_limit = (100*u.pc).to(u.milliarcsecond, u.parallax())\n",
    "\n",
    "query = f\"\"\"\n",
    "SELECT source_id, phot_g_mean_mag, bp_rp, parallax \n",
    "FROM gaiadr2.gaia_source\n",
    "WHERE parallax > {parallax_limit.value}\n",
    "\"\"\""
   ]
  },
  {
   "cell_type": "markdown",
   "metadata": {},
   "source": [
    "This will take ~1 minute to execute and download:"
   ]
  },
  {
   "cell_type": "code",
   "execution_count": null,
   "metadata": {},
   "outputs": [],
   "source": [
    "job = Gaia.launch_job_async(query)"
   ]
  },
  {
   "cell_type": "code",
   "execution_count": null,
   "metadata": {},
   "outputs": [],
   "source": [
    "tbl = job.get_results()\n",
    "len(tbl)"
   ]
  },
  {
   "cell_type": "code",
   "execution_count": null,
   "metadata": {},
   "outputs": [],
   "source": [
    "fig, ax = plt.subplots(figsize=(5, 6))\n",
    "ax.plot(tbl['bp_rp'],\n",
    "        tbl['phot_g_mean_mag'],\n",
    "        marker='o', mew=0, ms=1.5, ls='none')\n",
    "\n",
    "ax.set_xlim(-1, 5)\n",
    "ax.set_ylim(20.7, 0)"
   ]
  },
  {
   "cell_type": "code",
   "execution_count": null,
   "metadata": {},
   "outputs": [],
   "source": []
  },
  {
   "cell_type": "code",
   "execution_count": null,
   "metadata": {},
   "outputs": [],
   "source": []
  }
 ],
 "metadata": {
  "kernelspec": {
   "display_name": "Python [conda env:root] *",
   "language": "python",
   "name": "conda-root-py"
  },
  "language_info": {
   "codemirror_mode": {
    "name": "ipython",
    "version": 3
   },
   "file_extension": ".py",
   "mimetype": "text/x-python",
   "name": "python",
   "nbconvert_exporter": "python",
   "pygments_lexer": "ipython3",
   "version": "3.7.7"
  },
  "toc": {
   "base_numbering": 1,
   "nav_menu": {},
   "number_sections": true,
   "sideBar": true,
   "skip_h1_title": false,
   "title_cell": "Table of Contents",
   "title_sidebar": "Contents",
   "toc_cell": false,
   "toc_position": {},
   "toc_section_display": true,
   "toc_window_display": false
  }
 },
 "nbformat": 4,
 "nbformat_minor": 4
}
